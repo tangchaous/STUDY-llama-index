{
 "cells": [
  {
   "cell_type": "markdown",
   "metadata": {},
   "source": [
    "> **NOTE**: Following the [use case of Llama-Index](https://docs.llamaindex.ai/en/stable/understanding/extraction/)"
   ]
  },
  {
   "cell_type": "markdown",
   "metadata": {},
   "source": [
    "# Create Data Structure\n",
    "\n",
    "- Using `doc string` and `pydantic.Field(description='')` to insert meta data"
   ]
  },
  {
   "cell_type": "code",
   "execution_count": 3,
   "metadata": {},
   "outputs": [
    {
     "data": {
      "text/plain": [
       "True"
      ]
     },
     "execution_count": 3,
     "metadata": {},
     "output_type": "execute_result"
    }
   ],
   "source": [
    "from dotenv import load_dotenv\n",
    "load_dotenv()"
   ]
  },
  {
   "cell_type": "code",
   "execution_count": 4,
   "metadata": {},
   "outputs": [],
   "source": [
    "from pydantic import BaseModel, Field\n",
    "\n",
    "from datetime import datetime\n",
    "\n",
    "\n",
    "class LineItem(BaseModel):\n",
    "    \"\"\"A line item in an invoice.\"\"\"\n",
    "\n",
    "    item_name: str = Field(description=\"The name of this item\")\n",
    "    price: float = Field(description=\"The price of this item\")\n",
    "\n",
    "\n",
    "class Invoice(BaseModel):\n",
    "    \"\"\"A representation of information from an invoice.\"\"\"\n",
    "\n",
    "    invoice_id: str = Field(\n",
    "        description=\"A unique identifier for this invoice, often a number\"\n",
    "    )\n",
    "    date: datetime = Field(description=\"The date this invoice was created\")\n",
    "    line_items: list[LineItem] = Field(\n",
    "        description=\"A list of all the items in this invoice\"\n",
    "    )\n",
    "\n",
    "class FullName(BaseModel):\n",
    "    \"\"\"A representation of a full name.\"\"\"\n",
    "\n",
    "    last_name: str = Field(description=\"The last name\")\n",
    "    first_name: str = Field(description=\"The first name\")\n",
    "    middle_name: str = Field(description=\"The middle name or initial\", default=\"\")\n",
    "    title: str = Field(description=\"The title of this contact\", default=\"\")\n",
    "    cadency: str = Field(description=\"The cadency of this contact\", default=\"\")\n",
    "\n",
    "class PostInfo(BaseModel):\n",
    "    \"\"\"A representation of a post information.\"\"\"\n",
    "\n",
    "    org: str = Field(description=\"The organization this contact belongs to\", default=\"\")\n",
    "    service_branch: str = Field(description=\"The service branch of this contact\", default=\"\")\n",
    "    is_contractor: bool = Field(description=\"Is this contact a contractor?\", default=False)\n",
    "\n",
    "class Contact(BaseModel):\n",
    "    \"\"\"A representation of a contact.\"\"\"\n",
    "\n",
    "    full_name: FullName = Field(description=\"The full name of this contact\")\n",
    "\n",
    "    post_info: PostInfo = Field(description=\"The post information of this contact\")\n",
    "\n",
    "    email: str = Field(description=\"The email address of this contact\")\n",
    "    phone: str = Field(description=\"The phone number of this contact\")\n",
    "\n",
    "    contact_reason: str = Field(description=\"Project involved\", default=\"\")"
   ]
  },
  {
   "cell_type": "code",
   "execution_count": 5,
   "metadata": {},
   "outputs": [],
   "source": [
    "from llama_index.core import SimpleDirectoryReader\n",
    "\n",
    "documents = SimpleDirectoryReader(\"../data/email\").load_data()"
   ]
  },
  {
   "cell_type": "code",
   "execution_count": 6,
   "metadata": {},
   "outputs": [],
   "source": [
    "from llama_index.llms.openai import OpenAI\n",
    "\n",
    "llm = OpenAI(model=\"gpt-4o\", timeout=300)\n",
    "sllm = llm.as_structured_llm(Contact)"
   ]
  },
  {
   "cell_type": "markdown",
   "metadata": {},
   "source": [
    "> NOTE: \n",
    "> \n",
    "> This method can ONLY  handle \"single structure\". It CANNOT parse the text into structures then extract."
   ]
  },
  {
   "cell_type": "code",
   "execution_count": 16,
   "metadata": {},
   "outputs": [],
   "source": [
    "responses = []\n",
    "for person in documents[0].text.split(\"\\n\"):\n",
    "    if person.strip():\n",
    "        responses.append(sllm.complete(person))"
   ]
  },
  {
   "cell_type": "code",
   "execution_count": 18,
   "metadata": {},
   "outputs": [
    {
     "name": "stdout",
     "output_type": "stream",
     "text": [
      "{\n",
      "  \"full_name\": {\n",
      "    \"last_name\": \"Hall\",\n",
      "    \"first_name\": \"Joseph\",\n",
      "    \"middle_name\": \"S\",\n",
      "    \"title\": \"\",\n",
      "    \"cadency\": \"\"\n",
      "  },\n",
      "  \"post_info\": {\n",
      "    \"org\": \"FAA\",\n",
      "    \"service_branch\": \"\",\n",
      "    \"is_contractor\": false\n",
      "  },\n",
      "  \"email\": \"Joseph.S.Hall@faa.gov\",\n",
      "  \"phone\": \"\",\n",
      "  \"contact_reason\": \"\"\n",
      "}\n",
      "{\n",
      "  \"full_name\": {\n",
      "    \"last_name\": \"Jones\",\n",
      "    \"first_name\": \"Dominic\",\n",
      "    \"middle_name\": \"R\",\n",
      "    \"title\": \"\",\n",
      "    \"cadency\": \"\"\n",
      "  },\n",
      "  \"post_info\": {\n",
      "    \"org\": \"FAA\",\n",
      "    \"service_branch\": \"\",\n",
      "    \"is_contractor\": false\n",
      "  },\n",
      "  \"email\": \"Dominic.R.Jones@faa.gov\",\n",
      "  \"phone\": \"\",\n",
      "  \"contact_reason\": \"\"\n",
      "}\n",
      "{\n",
      "  \"full_name\": {\n",
      "    \"last_name\": \"Walker\",\n",
      "    \"first_name\": \"Judy\",\n",
      "    \"middle_name\": \"E\",\n",
      "    \"title\": \"\",\n",
      "    \"cadency\": \"\"\n",
      "  },\n",
      "  \"post_info\": {\n",
      "    \"org\": \"FAA\",\n",
      "    \"service_branch\": \"\",\n",
      "    \"is_contractor\": false\n",
      "  },\n",
      "  \"email\": \"Judy.E.Walker@faa.gov\",\n",
      "  \"phone\": \"\",\n",
      "  \"contact_reason\": \"\"\n",
      "}\n",
      "{\n",
      "  \"full_name\": {\n",
      "    \"last_name\": \"Whiteside\",\n",
      "    \"first_name\": \"William\",\n",
      "    \"middle_name\": \"D\",\n",
      "    \"title\": \"\",\n",
      "    \"cadency\": \"\"\n",
      "  },\n",
      "  \"post_info\": {\n",
      "    \"org\": \"FAA\",\n",
      "    \"service_branch\": \"\",\n",
      "    \"is_contractor\": false\n",
      "  },\n",
      "  \"email\": \"william.d.whiteside@faa.gov\",\n",
      "  \"phone\": \"\",\n",
      "  \"contact_reason\": \"\"\n",
      "}\n",
      "{\n",
      "  \"full_name\": {\n",
      "    \"last_name\": \"Johnson\",\n",
      "    \"first_name\": \"Gregory\",\n",
      "    \"middle_name\": \"\",\n",
      "    \"title\": \"\",\n",
      "    \"cadency\": \"\"\n",
      "  },\n",
      "  \"post_info\": {\n",
      "    \"org\": \"FAA\",\n",
      "    \"service_branch\": \"\",\n",
      "    \"is_contractor\": false\n",
      "  },\n",
      "  \"email\": \"gregory.johnson@faa.gov\",\n",
      "  \"phone\": \"\",\n",
      "  \"contact_reason\": \"\"\n",
      "}\n",
      "{\n",
      "  \"full_name\": {\n",
      "    \"last_name\": \"Kocmoud\",\n",
      "    \"first_name\": \"Stephen\",\n",
      "    \"middle_name\": \"M\",\n",
      "    \"title\": \"\",\n",
      "    \"cadency\": \"\"\n",
      "  },\n",
      "  \"post_info\": {\n",
      "    \"org\": \"FAA\",\n",
      "    \"service_branch\": \"\",\n",
      "    \"is_contractor\": false\n",
      "  },\n",
      "  \"email\": \"Stephen.M.Kocmoud@faa.gov\",\n",
      "  \"phone\": \"\",\n",
      "  \"contact_reason\": \"\"\n",
      "}\n",
      "{\n",
      "  \"full_name\": {\n",
      "    \"last_name\": \"Barbini\",\n",
      "    \"first_name\": \"Stephen\",\n",
      "    \"middle_name\": \"\",\n",
      "    \"title\": \"\",\n",
      "    \"cadency\": \"\"\n",
      "  },\n",
      "  \"post_info\": {\n",
      "    \"org\": \"FAA\",\n",
      "    \"service_branch\": \"\",\n",
      "    \"is_contractor\": false\n",
      "  },\n",
      "  \"email\": \"Stephen.Barbini@faa.gov\",\n",
      "  \"phone\": \"\",\n",
      "  \"contact_reason\": \"\"\n",
      "}\n",
      "{\n",
      "  \"full_name\": {\n",
      "    \"last_name\": \"Garcia\",\n",
      "    \"first_name\": \"Ricardo\",\n",
      "    \"middle_name\": \"\",\n",
      "    \"title\": \"\",\n",
      "    \"cadency\": \"\"\n",
      "  },\n",
      "  \"post_info\": {\n",
      "    \"org\": \"FAA\",\n",
      "    \"service_branch\": \"\",\n",
      "    \"is_contractor\": false\n",
      "  },\n",
      "  \"email\": \"Ricardo.Garcia@faa.gov\",\n",
      "  \"phone\": \"\",\n",
      "  \"contact_reason\": \"\"\n",
      "}\n",
      "{\n",
      "  \"full_name\": {\n",
      "    \"last_name\": \"Martinez\",\n",
      "    \"first_name\": \"Rodney\",\n",
      "    \"middle_name\": \"\",\n",
      "    \"title\": \"\",\n",
      "    \"cadency\": \"\"\n",
      "  },\n",
      "  \"post_info\": {\n",
      "    \"org\": \"FAA\",\n",
      "    \"service_branch\": \"\",\n",
      "    \"is_contractor\": false\n",
      "  },\n",
      "  \"email\": \"rodney.martinez@faa.gov\",\n",
      "  \"phone\": \"\",\n",
      "  \"contact_reason\": \"\"\n",
      "}\n",
      "{\n",
      "  \"full_name\": {\n",
      "    \"last_name\": \"Jones\",\n",
      "    \"first_name\": \"Dominic\",\n",
      "    \"middle_name\": \"R\",\n",
      "    \"title\": \"\",\n",
      "    \"cadency\": \"01\"\n",
      "  },\n",
      "  \"post_info\": {\n",
      "    \"org\": \"FAA\",\n",
      "    \"service_branch\": \"\",\n",
      "    \"is_contractor\": false\n",
      "  },\n",
      "  \"email\": \"Dominic.R.Jones01@faa.gov\",\n",
      "  \"phone\": \"\",\n",
      "  \"contact_reason\": \"\"\n",
      "}\n"
     ]
    }
   ],
   "source": [
    "for contact in responses:\n",
    "    print(json.dumps(json.loads(contact.text), indent=2))"
   ]
  },
  {
   "cell_type": "code",
   "execution_count": 26,
   "metadata": {},
   "outputs": [
    {
     "data": {
      "text/plain": [
       "Contact(full_name=FullName(last_name='Jones', first_name='Dominic', middle_name='R', title='', cadency='01'), post_info=PostInfo(org='FAA', service_branch='', is_contractor=False), email='Dominic.R.Jones01@faa.gov', phone='', contact_reason='')"
      ]
     },
     "execution_count": 26,
     "metadata": {},
     "output_type": "execute_result"
    }
   ],
   "source": [
    "# Convert into Pydentic objects\n",
    "Contact(**json.loads(contact.text))"
   ]
  },
  {
   "cell_type": "code",
   "execution_count": 20,
   "metadata": {},
   "outputs": [
    {
     "name": "stdout",
     "output_type": "stream",
     "text": [
      "additional_kwargs\n",
      "construct\n",
      "copy\n",
      "delta\n",
      "dict\n",
      "from_orm\n",
      "json\n",
      "logprobs\n",
      "model_computed_fields\n",
      "model_config\n",
      "model_construct\n",
      "model_copy\n",
      "model_dump\n",
      "model_dump_json\n",
      "model_extra\n",
      "model_fields\n",
      "model_fields_set\n",
      "model_json_schema\n",
      "model_parametrized_name\n",
      "model_post_init\n",
      "model_rebuild\n",
      "model_validate\n",
      "model_validate_json\n",
      "model_validate_strings\n",
      "parse_file\n",
      "parse_obj\n",
      "parse_raw\n",
      "raw\n",
      "schema\n",
      "schema_json\n",
      "text\n",
      "update_forward_refs\n",
      "validate\n"
     ]
    }
   ],
   "source": [
    "for att in dir(contact):\n",
    "    if not att.startswith(\"_\"):\n",
    "        print(att)"
   ]
  },
  {
   "cell_type": "code",
   "execution_count": 3,
   "metadata": {},
   "outputs": [
    {
     "ename": "AttributeError",
     "evalue": "'list' object has no attribute 'startswith'",
     "output_type": "error",
     "traceback": [
      "\u001b[0;31m---------------------------------------------------------------------------\u001b[0m",
      "\u001b[0;31mAttributeError\u001b[0m                            Traceback (most recent call last)",
      "Cell \u001b[0;32mIn[3], line 9\u001b[0m\n\u001b[1;32m      3\u001b[0m \u001b[38;5;28;01mfrom\u001b[39;00m\u001b[38;5;250m \u001b[39m\u001b[38;5;21;01mpathlib\u001b[39;00m\u001b[38;5;250m \u001b[39m\u001b[38;5;28;01mimport\u001b[39;00m Path\n\u001b[1;32m      5\u001b[0m \u001b[38;5;66;03m#pdf_reader = PDFReader()\u001b[39;00m\n\u001b[1;32m      6\u001b[0m \u001b[38;5;66;03m#documents = pdf_reader.load_data(file=Path(\"./uber_receipt.pdf\"))\u001b[39;00m\n\u001b[1;32m      7\u001b[0m \u001b[38;5;66;03m#text = documents[0].text\u001b[39;00m\n\u001b[0;32m----> 9\u001b[0m reader \u001b[38;5;241m=\u001b[39m \u001b[43mSimpleDirectoryReader\u001b[49m\u001b[43m(\u001b[49m\u001b[43m[\u001b[49m\u001b[43mPath\u001b[49m\u001b[43m(\u001b[49m\u001b[38;5;124;43m\"\u001b[39;49m\u001b[38;5;124;43m../data/recipient.txt\u001b[39;49m\u001b[38;5;124;43m\"\u001b[39;49m\u001b[43m)\u001b[49m\u001b[43m]\u001b[49m\u001b[43m)\u001b[49m\n",
      "File \u001b[0;32m~/CodeRepo/STUDY-llama-index/.venv/lib/python3.12/site-packages/llama_index/core/readers/file/base.py:271\u001b[0m, in \u001b[0;36mSimpleDirectoryReader.__init__\u001b[0;34m(self, input_dir, input_files, exclude, exclude_hidden, errors, recursive, encoding, filename_as_id, required_exts, file_extractor, num_files_limit, file_metadata, raise_on_error, fs)\u001b[0m\n\u001b[1;32m    269\u001b[0m         \u001b[38;5;28mself\u001b[39m\u001b[38;5;241m.\u001b[39minput_files\u001b[38;5;241m.\u001b[39mappend(input_file)\n\u001b[1;32m    270\u001b[0m \u001b[38;5;28;01melif\u001b[39;00m input_dir:\n\u001b[0;32m--> 271\u001b[0m     \u001b[38;5;28;01mif\u001b[39;00m \u001b[38;5;129;01mnot\u001b[39;00m \u001b[38;5;28;43mself\u001b[39;49m\u001b[38;5;241;43m.\u001b[39;49m\u001b[43mfs\u001b[49m\u001b[38;5;241;43m.\u001b[39;49m\u001b[43misdir\u001b[49m\u001b[43m(\u001b[49m\u001b[43minput_dir\u001b[49m\u001b[43m)\u001b[49m:\n\u001b[1;32m    272\u001b[0m         \u001b[38;5;28;01mraise\u001b[39;00m \u001b[38;5;167;01mValueError\u001b[39;00m(\u001b[38;5;124mf\u001b[39m\u001b[38;5;124m\"\u001b[39m\u001b[38;5;124mDirectory \u001b[39m\u001b[38;5;132;01m{\u001b[39;00minput_dir\u001b[38;5;132;01m}\u001b[39;00m\u001b[38;5;124m does not exist.\u001b[39m\u001b[38;5;124m\"\u001b[39m)\n\u001b[1;32m    273\u001b[0m     \u001b[38;5;28mself\u001b[39m\u001b[38;5;241m.\u001b[39minput_dir \u001b[38;5;241m=\u001b[39m _Path(input_dir)\n",
      "File \u001b[0;32m~/CodeRepo/STUDY-llama-index/.venv/lib/python3.12/site-packages/fsspec/implementations/local.py:143\u001b[0m, in \u001b[0;36mLocalFileSystem.isdir\u001b[0;34m(self, path)\u001b[0m\n\u001b[1;32m    142\u001b[0m \u001b[38;5;28;01mdef\u001b[39;00m\u001b[38;5;250m \u001b[39m\u001b[38;5;21misdir\u001b[39m(\u001b[38;5;28mself\u001b[39m, path):\n\u001b[0;32m--> 143\u001b[0m     path \u001b[38;5;241m=\u001b[39m \u001b[38;5;28;43mself\u001b[39;49m\u001b[38;5;241;43m.\u001b[39;49m\u001b[43m_strip_protocol\u001b[49m\u001b[43m(\u001b[49m\u001b[43mpath\u001b[49m\u001b[43m)\u001b[49m\n\u001b[1;32m    144\u001b[0m     \u001b[38;5;28;01mreturn\u001b[39;00m os\u001b[38;5;241m.\u001b[39mpath\u001b[38;5;241m.\u001b[39misdir(path)\n",
      "File \u001b[0;32m~/CodeRepo/STUDY-llama-index/.venv/lib/python3.12/site-packages/fsspec/implementations/local.py:242\u001b[0m, in \u001b[0;36mLocalFileSystem._strip_protocol\u001b[0;34m(cls, path)\u001b[0m\n\u001b[1;32m    239\u001b[0m \u001b[38;5;129m@classmethod\u001b[39m\n\u001b[1;32m    240\u001b[0m \u001b[38;5;28;01mdef\u001b[39;00m\u001b[38;5;250m \u001b[39m\u001b[38;5;21m_strip_protocol\u001b[39m(\u001b[38;5;28mcls\u001b[39m, path):\n\u001b[1;32m    241\u001b[0m     path \u001b[38;5;241m=\u001b[39m stringify_path(path)\n\u001b[0;32m--> 242\u001b[0m     \u001b[38;5;28;01mif\u001b[39;00m \u001b[43mpath\u001b[49m\u001b[38;5;241;43m.\u001b[39;49m\u001b[43mstartswith\u001b[49m(\u001b[38;5;124m\"\u001b[39m\u001b[38;5;124mfile://\u001b[39m\u001b[38;5;124m\"\u001b[39m):\n\u001b[1;32m    243\u001b[0m         path \u001b[38;5;241m=\u001b[39m path[\u001b[38;5;241m7\u001b[39m:]\n\u001b[1;32m    244\u001b[0m     \u001b[38;5;28;01melif\u001b[39;00m path\u001b[38;5;241m.\u001b[39mstartswith(\u001b[38;5;124m\"\u001b[39m\u001b[38;5;124mfile:\u001b[39m\u001b[38;5;124m\"\u001b[39m):\n",
      "\u001b[0;31mAttributeError\u001b[0m: 'list' object has no attribute 'startswith'"
     ]
    }
   ],
   "source": [
    "from llama_index.core import SimpleDirectoryReader\n",
    "from llama_index.readers.file import PDFReader\n",
    "from pathlib import Path\n",
    "\n",
    "pdf_reader = PDFReader()\n",
    "documents = pdf_reader.load_data(file=Path(\"./uber_receipt.pdf\"))\n",
    "text = documents[0].text"
   ]
  },
  {
   "cell_type": "code",
   "execution_count": 5,
   "metadata": {},
   "outputs": [],
   "source": [
    "documents = reader.load_data()"
   ]
  }
 ],
 "metadata": {
  "kernelspec": {
   "display_name": ".venv",
   "language": "python",
   "name": "python3"
  },
  "language_info": {
   "codemirror_mode": {
    "name": "ipython",
    "version": 3
   },
   "file_extension": ".py",
   "mimetype": "text/x-python",
   "name": "python",
   "nbconvert_exporter": "python",
   "pygments_lexer": "ipython3",
   "version": "3.12.7"
  }
 },
 "nbformat": 4,
 "nbformat_minor": 2
}
