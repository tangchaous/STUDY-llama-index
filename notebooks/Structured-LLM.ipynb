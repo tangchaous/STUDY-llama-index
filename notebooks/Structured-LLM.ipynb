{
 "cells": [
  {
   "cell_type": "markdown",
   "metadata": {},
   "source": [
    "> **NOTE**: Following the [use case of Llama-Index](https://docs.llamaindex.ai/en/stable/understanding/extraction/)"
   ]
  },
  {
   "cell_type": "markdown",
   "metadata": {},
   "source": [
    "# Create Data Structure\n",
    "\n",
    "- Using `doc string` and `pydantic.Field(description='')` to insert meta data"
   ]
  },
  {
   "cell_type": "code",
   "execution_count": 1,
   "metadata": {},
   "outputs": [],
   "source": [
    "from pydantic import BaseModel, Field\n",
    "\n",
    "from datetime import datetime"
   ]
  },
  {
   "cell_type": "code",
   "execution_count": 2,
   "metadata": {},
   "outputs": [],
   "source": [
    "class LineItem(BaseModel):\n",
    "    \"\"\"A line item in an invoice.\"\"\"\n",
    "\n",
    "    item_name: str = Field(description=\"The name of this item\")\n",
    "    price: float = Field(description=\"The price of this item\")\n",
    "\n",
    "\n",
    "class Invoice(BaseModel):\n",
    "    \"\"\"A representation of information from an invoice.\"\"\"\n",
    "\n",
    "    invoice_id: str = Field(\n",
    "        description=\"A unique identifier for this invoice, often a number\"\n",
    "    )\n",
    "    date: datetime = Field(description=\"The date this invoice was created\")\n",
    "    line_items: list[LineItem] = Field(\n",
    "        description=\"A list of all the items in this invoice\"\n",
    "    )\n",
    "\n",
    "class FullName(BaseModel):\n",
    "    \"\"\"A representation of a full name.\"\"\"\n",
    "\n",
    "    last_name: str = Field(description=\"The last name\")\n",
    "    first_name: str = Field(description=\"The first name\")\n",
    "    middle_name: str = Field(description=\"The middle name or initial\", default=\"\")\n",
    "    title: str = Field(description=\"The title of this contact\", default=\"\")\n",
    "    cadency: str = Field(description=\"The cadency of this contact\", default=\"\")\n",
    "\n",
    "class PostInfo(BaseModel):\n",
    "    \"\"\"A representation of a post information.\"\"\"\n",
    "\n",
    "    org: str = Field(description=\"The organization this contact belongs to\", default=\"\")\n",
    "    service_branch: str = Field(description=\"The service branch of this contact\", default=\"\")\n",
    "    is_contractor: bool = Field(description=\"Is this contact a contractor?\", default=False)\n",
    "\n",
    "class Contact(BaseModel):\n",
    "    \"\"\"A representation of a contact.\"\"\"\n",
    "\n",
    "    full_name: FullName = Field(description=\"The full name of this contact\")\n",
    "\n",
    "    post_info: PostInfo = Field(description=\"The post information of this contact\")\n",
    "\n",
    "    email: str = Field(description=\"The email address of this contact\")\n",
    "    phone: str = Field(description=\"The phone number of this contact\")\n",
    "\n",
    "    contact_reason: str = Field(description=\"Project involved\", default=\"\")"
   ]
  },
  {
   "cell_type": "code",
   "execution_count": 4,
   "metadata": {},
   "outputs": [],
   "source": [
    "from llama_index.core import SimpleDirectoryReader\n",
    "from llama_index.readers.file import PDFReader\n",
    "from pathlib import Path\n",
    "\n",
    "#pdf_reader = PDFReader()\n",
    "#documents = pdf_reader.load_data(file=Path(\"./uber_receipt.pdf\"))\n",
    "#text = documents[0].text\n",
    "\n",
    "reader = SimpleDirectoryReader(input_dir=Path(\"../data\"))"
   ]
  },
  {
   "cell_type": "code",
   "execution_count": 5,
   "metadata": {},
   "outputs": [],
   "source": [
    "documents = reader.load_data()"
   ]
  },
  {
   "cell_type": "code",
   "execution_count": 11,
   "metadata": {},
   "outputs": [
    {
     "name": "stdout",
     "output_type": "stream",
     "text": [
      "as_related_node_info\n",
      "audio_resource\n",
      "child_nodes\n",
      "class_name\n",
      "construct\n",
      "copy\n",
      "custom_model_dump\n",
      "dict\n",
      "doc_id\n",
      "embedding\n",
      "example\n",
      "excluded_embed_metadata_keys\n",
      "excluded_llm_metadata_keys\n",
      "extra_info\n",
      "from_cloud_document\n",
      "from_dict\n",
      "from_embedchain_format\n",
      "from_haystack_format\n",
      "from_json\n",
      "from_langchain_format\n",
      "from_orm\n",
      "from_semantic_kernel_format\n",
      "get_content\n",
      "get_doc_id\n",
      "get_embedding\n",
      "get_metadata_str\n",
      "get_type\n",
      "hash\n",
      "id_\n",
      "image_resource\n",
      "json\n",
      "metadata\n",
      "metadata_separator\n",
      "metadata_template\n",
      "model_computed_fields\n",
      "model_config\n",
      "model_construct\n",
      "model_copy\n",
      "model_dump\n",
      "model_dump_json\n",
      "model_extra\n",
      "model_fields\n",
      "model_fields_set\n",
      "model_json_schema\n",
      "model_parametrized_name\n",
      "model_post_init\n",
      "model_rebuild\n",
      "model_validate\n",
      "model_validate_json\n",
      "model_validate_strings\n",
      "next_node\n",
      "node_id\n",
      "parent_node\n",
      "parse_file\n",
      "parse_obj\n",
      "parse_raw\n",
      "prev_node\n",
      "ref_doc_id\n",
      "relationships\n",
      "schema\n",
      "schema_json\n",
      "set_content\n",
      "source_node\n",
      "text\n",
      "text_resource\n",
      "text_template\n",
      "to_cloud_document\n",
      "to_dict\n",
      "to_embedchain_format\n",
      "to_haystack_format\n",
      "to_json\n",
      "to_langchain_format\n",
      "to_semantic_kernel_format\n",
      "to_vectorflow\n",
      "update_forward_refs\n",
      "validate\n",
      "video_resource\n"
     ]
    }
   ],
   "source": [
    "for att in dir(documents[0]):\n",
    "    if not att.startswith(\"_\"):\n",
    "        print(att)"
   ]
  },
  {
   "cell_type": "code",
   "execution_count": null,
   "metadata": {},
   "outputs": [],
   "source": []
  }
 ],
 "metadata": {
  "kernelspec": {
   "display_name": ".venv",
   "language": "python",
   "name": "python3"
  },
  "language_info": {
   "codemirror_mode": {
    "name": "ipython",
    "version": 3
   },
   "file_extension": ".py",
   "mimetype": "text/x-python",
   "name": "python",
   "nbconvert_exporter": "python",
   "pygments_lexer": "ipython3",
   "version": "3.12.8"
  }
 },
 "nbformat": 4,
 "nbformat_minor": 2
}
